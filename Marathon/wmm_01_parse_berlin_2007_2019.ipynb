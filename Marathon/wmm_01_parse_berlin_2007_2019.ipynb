{
 "cells": [
  {
   "cell_type": "code",
   "execution_count": 1,
   "metadata": {},
   "outputs": [],
   "source": [
    "import time\n",
    "from selenium import webdriver\n",
    "from selenium.webdriver.support.ui import WebDriverWait\n",
    "from selenium.webdriver.common.by import By\n",
    "from selenium.webdriver.support import expected_conditions as EC\n",
    "import numpy as np\n",
    "import pandas as pd"
   ]
  },
  {
   "cell_type": "markdown",
   "metadata": {},
   "source": [
    "<h1># 01 - Ergebnisdaten: Parsen der Ergebnisdaten - Berlin (2007 - 2019)</h1>\n",
    "<hr>\n",
    "<p><b>Hinweis:</b> Dateifpade sind absolut angegeben und müssen entsprechend der eigenen Verzeichnisstruktur angepasst werden!</p>\n",
    "<hr>"
   ]
  },
  {
   "cell_type": "code",
   "execution_count": 2,
   "metadata": {},
   "outputs": [],
   "source": [
    "# Treiber laden\n",
    "driver = webdriver.Firefox()\n",
    "wait = WebDriverWait(driver, 10)"
   ]
  },
  {
   "cell_type": "code",
   "execution_count": 3,
   "metadata": {},
   "outputs": [],
   "source": [
    "\n",
    "# Seite laden\n",
    "driver.get(\"https://www.bmw-berlin-marathon.com/impressionen/statistik-und-geschichte/ergebnisarchiv/\")\n",
    "time.sleep(3)\n",
    "# Cookies bestaetigen\n",
    "driver.find_element_by_xpath(\"//button[@aria-label='Akzeptiere alle']\").click()\n",
    "time.sleep(2)"
   ]
  },
  {
   "cell_type": "code",
   "execution_count": 4,
   "metadata": {},
   "outputs": [],
   "source": [
    "# Jahre die geparsed werden sollen\n",
    "years = list(range(2007,2020))"
   ]
  },
  {
   "cell_type": "code",
   "execution_count": 5,
   "metadata": {},
   "outputs": [],
   "source": [
    "# Alle Jahre mit den internen Values des Dropdownfeldes ermittelnt\n",
    "# Die Values werden benoetigt um spaeter die jeweiligen Jahr auszuwaehlen\n",
    "event = driver.find_element_by_xpath(\"//div[@id='scc_timing_21058']//select[@class='events border-input']\")\n",
    "options = event.find_elements_by_tag_name(\"option\")\n",
    "# Nur Values zu den ausgeweahlten Jahren ermitteln\n",
    "dict_events = {}\n",
    "for option in options:\n",
    "    year = int(option.text[0:5])\n",
    "    if year in years:\n",
    "        years.remove(year)\n",
    "        dict_events[year] = option.get_attribute(\"value\")\n",
    "    if len(years) == 0:\n",
    "        break"
   ]
  },
  {
   "cell_type": "code",
   "execution_count": 6,
   "metadata": {},
   "outputs": [],
   "source": [
    "# Leeres Dataframe anlegen\n",
    "df_results = pd.DataFrame(pd.DataFrame(\n",
    "    columns=['Jahr', 'Platz','Vorname', 'Nachname', 'NAT', 'SN', 'Verein','Geschlecht','Netto', 'Brutto','5KM','10KM','15KM','20KM','HM','25KM','30KM','35KM','40KM'])\n",
    "    ,dtype=str)"
   ]
  },
  {
   "cell_type": "code",
   "execution_count": 7,
   "metadata": {},
   "outputs": [],
   "source": [
    "# Ueber die Jahre iterieren und Werte speichern\n",
    "for year in dict_events:\n",
    "    # Jahr auswaehlen\n",
    "    xpath_event_value = \"//option[@value='\" + dict_events[year] + \"']\"\n",
    "    event.find_element_by_xpath(xpath_event_value).click()\n",
    "    time.sleep(3)\n",
    "    # Nach Platz sortieren\n",
    "    event.find_element_by_xpath(\"//table[1]/thead[1]/tr[@class='labels']/th[2]\").click()\n",
    "    time.sleep(3)\n",
    "    # Geschlecht filtern\n",
    "    for ges in ['M', 'W']:\n",
    "        # Filter - Geschlecht setzen\n",
    "        event.find_element_by_xpath(\"//table[1]/thead[1]/tr[@class='filter']/th[8]/input[1]\").send_keys(ges)\n",
    "        time.sleep(3)        \n",
    "        # Ueber die Ergebnisse iterieren: Anzahl der Ergebniss x 2:\n",
    "        for row in range(1,20,2):\n",
    "            xpath_result_row = \"//table[1]/tbody[1]/tr[\" + str(row) + \"]\"\n",
    "            xpath_result_row_zz = xpath_result_row + \"/td[1]\"\n",
    "            # Gesamtzeiten + Alle Attribute speichern\n",
    "            row_temp = {\n",
    "                'Jahr' : year\n",
    "                ,'Platz' : event.find_element_by_xpath(xpath_result_row + \"/td[2]\").text\n",
    "                ,'Vorname' : event.find_element_by_xpath(xpath_result_row + \"/td[3]\").text\n",
    "                ,'Nachname' : event.find_element_by_xpath(xpath_result_row + \"/td[4]\").text\n",
    "                ,'NAT' : event.find_element_by_xpath(xpath_result_row + \"/td[5]\").text\n",
    "                ,'SN' : event.find_element_by_xpath(xpath_result_row + \"/td[6]\").text\n",
    "                ,'Verein' : event.find_element_by_xpath(xpath_result_row + \"/td[7]\").text\n",
    "                ,'Geschlecht' : event.find_element_by_xpath(xpath_result_row + \"/td[8]\").text\n",
    "                ,'Netto' : event.find_element_by_xpath(xpath_result_row + \"/td[9]\").text\n",
    "                ,'Brutto' : event.find_element_by_xpath(xpath_result_row + \"/td[10]\").text\n",
    "            }\n",
    "            #print(row_temp)\n",
    "            # Zwischnezeiten anzeigen    \n",
    "            event.find_element_by_xpath(xpath_result_row_zz).click()\n",
    "            time.sleep(3)\n",
    "            # Zwischenzeiten zum Gesamtergebniss hizufuegen\n",
    "            for zzeit in range(1,10):\n",
    "                zz_path_desc = \"//table[1]/tbody[1]/tr[\" + str(row+1) + \"]/td[1]/dl[1]/dd[1]/ul[1]/li[\" + str(zzeit) + \"]/span[1]\"\n",
    "                zz_path_value = \"//table[1]/tbody[1]/tr[\" + str(row+1) + \"]/td[1]/dl[1]/dd[1]/ul[1]/li[\" + str(zzeit) + \"]/span[2]\"\n",
    "                row_temp.update({\n",
    "                    event.find_element_by_xpath(zz_path_desc).text.upper() : event.find_element_by_xpath(zz_path_value).text\n",
    "                })\n",
    "                #print(event.find_element_by_xpath(zz_path_desc).text + \" | \" + event.find_element_by_xpath(zz_path_value).text)\n",
    "            # Ins Dataframe speichern\n",
    "            df_results = df_results.append(row_temp, ignore_index=True)\n",
    "        # Filter - Geschlecht entfernen\n",
    "        event.find_element_by_xpath(\"//table[1]/thead[1]/tr[@class='filter']/th[8]/input[1]\").clear()\n",
    "        time.sleep(3)\n",
    "\n",
    "    "
   ]
  },
  {
   "cell_type": "code",
   "execution_count": 8,
   "metadata": {},
   "outputs": [],
   "source": [
    "# Ergebnisse ausgeben\n",
    "# print(df_results.head())"
   ]
  },
  {
   "cell_type": "code",
   "execution_count": 9,
   "metadata": {},
   "outputs": [],
   "source": [
    "# Treiber schliessen\n",
    "driver.close()"
   ]
  },
  {
   "cell_type": "code",
   "execution_count": 10,
   "metadata": {},
   "outputs": [],
   "source": [
    "# Daten in die CSV Exportieren\n",
    "file_path = '/home/paul/python_projects/masterthesis/data/Berlin/'\n",
    "file_name = 'daten_wmm_berlin_all.csv'\n",
    "\n",
    "df_results.to_csv(file_path+file_name, sep=';', index=False)"
   ]
  }
 ],
 "metadata": {
  "interpreter": {
   "hash": "a170f962d07ed8515a1e0cfe90051c8c49c07a10f515ca6de22ae850428164e9"
  },
  "kernelspec": {
   "display_name": "Python 3.7.11 64-bit ('base': conda)",
   "name": "python3"
  },
  "language_info": {
   "codemirror_mode": {
    "name": "ipython",
    "version": 3
   },
   "file_extension": ".py",
   "mimetype": "text/x-python",
   "name": "python",
   "nbconvert_exporter": "python",
   "pygments_lexer": "ipython3",
   "version": "3.7.11"
  },
  "orig_nbformat": 4
 },
 "nbformat": 4,
 "nbformat_minor": 2
}
