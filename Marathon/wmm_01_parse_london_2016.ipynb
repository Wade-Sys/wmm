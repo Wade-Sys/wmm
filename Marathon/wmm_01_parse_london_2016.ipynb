{
 "cells": [
  {
   "cell_type": "code",
   "execution_count": null,
   "metadata": {},
   "outputs": [],
   "source": [
    "import time\n",
    "from selenium import webdriver\n",
    "from selenium.webdriver.support.ui import WebDriverWait\n",
    "from selenium.webdriver.common.by import By\n",
    "from selenium.webdriver.support import expected_conditions as EC\n",
    "import numpy as np\n",
    "import pandas as pd"
   ]
  },
  {
   "cell_type": "markdown",
   "metadata": {},
   "source": [
    "<h1># 01 - Ergebnisdaten: Parsen der Ergebnisdaten - London (2016)</h1>\n",
    "<hr>\n",
    "<p><b>Hinweis:</b> Dateifpade sind absolut angegeben und müssen entsprechend der eigenen Verzeichnisstruktur angepasst werden!</p>\n",
    "<hr>"
   ]
  },
  {
   "cell_type": "code",
   "execution_count": null,
   "metadata": {},
   "outputs": [],
   "source": [
    "# Jahr festlegen:\n",
    "year = 2016"
   ]
  },
  {
   "cell_type": "code",
   "execution_count": null,
   "metadata": {},
   "outputs": [],
   "source": [
    "# Leeres Dataframe anlegen\n",
    "df_results = pd.DataFrame(pd.DataFrame(\n",
    "    columns=[\n",
    "        'Jahr','Ges', 'Name','Club', 'Category', 'Runner_Number', 'Place_Gender', 'Place_Category','Place_Overall'\n",
    "        ,'Start_Time_of_day','Finish_Time', 'Race_Status','Last_Split'\n",
    "        ,'5K_Time_of_day','5K_Time','5K_Diff','5K_min_km','5K_kmh'\n",
    "        ,'10K_Time_of_day','10K_Time','10K_Diff','10K_min_km','10K_kmh'\n",
    "        ,'15K_Time_of_day','15K_Time','15K_Diff','15K_min_km','15K_kmh'\n",
    "        ,'20K_Time_of_day','20K_Time','20K_Diff','20K_min_km','20K_kmh'\n",
    "        ,'HK_Time_of_day','HK_Time','HK_Diff','HK_min_km','HK_kmh'\n",
    "        ,'25K_Time_of_day','25K_Time','25K_Diff','25K_min_km','25K_kmh'\n",
    "        ,'30K_Time_of_day','30K_Time','30K_Diff','30K_min_km','30K_kmh'\n",
    "        ,'35K_Time_of_day','35K_Time','35K_Diff','35K_min_km','35K_kmh'\n",
    "        ,'40K_Time_of_day','40K_Time','40K_Diff','40K_min_km','40K_kmh'\n",
    "        ,'FK_Time_of_day','FK_Time','FK_Diff','FK_min_km','FK_kmh'\n",
    "        ])\n",
    "    ,dtype=str)"
   ]
  },
  {
   "cell_type": "code",
   "execution_count": null,
   "metadata": {},
   "outputs": [],
   "source": [
    "# Treiber laden\n",
    "driver = webdriver.Firefox()\n",
    "wait = WebDriverWait(driver, 10)"
   ]
  },
  {
   "cell_type": "code",
   "execution_count": null,
   "metadata": {},
   "outputs": [],
   "source": [
    "# Seite laden\n",
    "url = \"https://results.virginmoneylondonmarathon.com/\" + str(year) + \"/\"\n",
    "driver.get(url)\n",
    "time.sleep(3)"
   ]
  },
  {
   "cell_type": "code",
   "execution_count": null,
   "metadata": {},
   "outputs": [],
   "source": [
    "for ges in ['M', 'W']:\n",
    "    # Ergebnisse auswaehlen und anzeigen\n",
    "    # Event\n",
    "    xpath_select_result = \"//select[@id='list_event']//option[@value='ELIT']\"\n",
    "    driver.find_element_by_xpath(xpath_select_result).click()\n",
    "    time.sleep(3)\n",
    "    # Geschlecht\n",
    "    xpath_select_result = \"//select[@id='list_search-sex']//option[@value='\" + ges + \"']\"\n",
    "    driver.find_element_by_xpath(xpath_select_result).click()\n",
    "    time.sleep(3)\n",
    "    # Show Results Button\n",
    "    xpath_select_result = \"//input[@name='Submit' and @value='Show Results']\"\n",
    "    driver.find_element_by_xpath(xpath_select_result).click()\n",
    "    time.sleep(5)\n",
    "    # Uber die ersten 10 Athleten iterieren\n",
    "    for i in range(1,11):\n",
    "        # Ein Athlet aufrufen        \n",
    "        xpath_link = \"//tbody[1]/tr[\" + str(i) + \"]/td[4]/a[1]\"\n",
    "        driver.find_element_by_xpath(xpath_link).click()\n",
    "        time.sleep(2)\n",
    "        # Auf der naechsten Seite die Daten abziehen\n",
    "        result_temp = {\n",
    "            'Jahr' : year\n",
    "            ,'Ges' : ges\n",
    "            ,'Name' : driver.find_element_by_xpath(\"//td[@class='f-__fullname last']\").text\n",
    "            ,'Club' : driver.find_element_by_xpath(\"//td[@class='f-club last']\").text\n",
    "            ,'Category' : driver.find_element_by_xpath(\"//td[@class='f-age_class last']\").text\n",
    "            ,'Runner_Number' : driver.find_element_by_xpath(\"//td[@class='f-start_no_text last']\").text\n",
    "            ,'Place_Gender' : driver.find_element_by_xpath(\"//td[@class='f-place_all last']\").text\n",
    "            ,'Place_Category' : driver.find_element_by_xpath(\"//td[@class='f-place_age last']\").text\n",
    "            ,'Place_Overall' : driver.find_element_by_xpath(\"//td[@class='f-place_nosex last']\").text\n",
    "            ,'Start_Time_of_day' : driver.find_element_by_xpath(\"//td[@class='f-starttime_net last']\").text\n",
    "            ,'Finish_Time' : driver.find_element_by_xpath(\"//td[@class='f-time_finish_netto last']\").text\n",
    "            ,'Race_Status' : driver.find_element_by_xpath(\"//td[@class='f-race_status last']\").text\n",
    "            ,'Last_Split' : driver.find_element_by_xpath(\"//td[@class='f-__last_split_name last']\").text\n",
    "            ,'5K_Time_of_day' : driver.find_element_by_xpath(\"//tr[@class=' f-time_01']/td[@class='time_day']\").text\n",
    "            ,'5K_Time' : driver.find_element_by_xpath(\"//tr[@class=' f-time_01']/td[@class='time']\").text\n",
    "            ,'5K_Diff' : driver.find_element_by_xpath(\"//tr[@class=' f-time_01']/td[@class='diff right']\").text\n",
    "            ,'5K_min_km' : driver.find_element_by_xpath(\"//tr[@class=' f-time_01']/td[@class='min_km right opt']\").text\n",
    "            ,'5K_kmh' : driver.find_element_by_xpath(\"//tr[@class=' f-time_01']/td[@class='kmh right opt']\").text\n",
    "            ,'10K_Time_of_day' : driver.find_element_by_xpath(\"//tr[@class='list-highlight f-time_02']/td[@class='time_day']\").text\n",
    "            ,'10K_Time' : driver.find_element_by_xpath(\"//tr[@class='list-highlight f-time_02']/td[@class='time']\").text\n",
    "            ,'10K_Diff' : driver.find_element_by_xpath(\"//tr[@class='list-highlight f-time_02']/td[@class='diff right']\").text\n",
    "            ,'10K_min_km' : driver.find_element_by_xpath(\"//tr[@class='list-highlight f-time_02']/td[@class='min_km right opt']\").text\n",
    "            ,'10K_kmh' : driver.find_element_by_xpath(\"//tr[@class='list-highlight f-time_02']/td[@class='kmh right opt']\").text\n",
    "            ,'15K_Time_of_day' : driver.find_element_by_xpath(\"//tr[@class=' f-time_03']/td[@class='time_day']\").text\n",
    "            ,'15K_Time' : driver.find_element_by_xpath(\"//tr[@class=' f-time_03']/td[@class='time']\").text\n",
    "            ,'15K_Diff' : driver.find_element_by_xpath(\"//tr[@class=' f-time_03']/td[@class='diff right']\").text\n",
    "            ,'15K_min_km' : driver.find_element_by_xpath(\"//tr[@class=' f-time_03']/td[@class='min_km right opt']\").text\n",
    "            ,'15K_kmh' : driver.find_element_by_xpath(\"//tr[@class=' f-time_03']/td[@class='kmh right opt']\").text\n",
    "            ,'20K_Time_of_day' : driver.find_element_by_xpath(\"//tr[@class='list-highlight f-time_04']/td[@class='time_day']\").text\n",
    "            ,'20K_Time' : driver.find_element_by_xpath(\"//tr[@class='list-highlight f-time_04']/td[@class='time']\").text\n",
    "            ,'20K_Diff' : driver.find_element_by_xpath(\"//tr[@class='list-highlight f-time_04']/td[@class='diff right']\").text\n",
    "            ,'20K_min_km' : driver.find_element_by_xpath(\"//tr[@class='list-highlight f-time_04']/td[@class='min_km right opt']\").text\n",
    "            ,'20K_kmh' : driver.find_element_by_xpath(\"//tr[@class='list-highlight f-time_04']/td[@class='kmh right opt']\").text\n",
    "            ,'HK_Time_of_day' : driver.find_element_by_xpath(\"//tr[@class=' f-time_05']/td[@class='time_day']\").text\n",
    "            ,'HK_Time' : driver.find_element_by_xpath(\"//tr[@class=' f-time_05']/td[@class='time']\").text\n",
    "            ,'HK_Diff' : driver.find_element_by_xpath(\"//tr[@class=' f-time_05']/td[@class='diff right']\").text\n",
    "            ,'HK_min_km' : driver.find_element_by_xpath(\"//tr[@class=' f-time_05']/td[@class='min_km right opt']\").text\n",
    "            ,'HK_kmh' : driver.find_element_by_xpath(\"//tr[@class=' f-time_05']/td[@class='kmh right opt']\").text\n",
    "            ,'25K_Time_of_day' : driver.find_element_by_xpath(\"//tr[@class='list-highlight f-time_06']/td[@class='time_day']\").text\n",
    "            ,'25K_Time' : driver.find_element_by_xpath(\"//tr[@class='list-highlight f-time_06']/td[@class='time']\").text\n",
    "            ,'25K_Diff' : driver.find_element_by_xpath(\"//tr[@class='list-highlight f-time_06']/td[@class='diff right']\").text\n",
    "            ,'25K_min_km' : driver.find_element_by_xpath(\"//tr[@class='list-highlight f-time_06']/td[@class='min_km right opt']\").text\n",
    "            ,'25K_kmh' : driver.find_element_by_xpath(\"//tr[@class='list-highlight f-time_06']/td[@class='kmh right opt']\").text\n",
    "            ,'30K_Time_of_day' : driver.find_element_by_xpath(\"//tr[@class=' f-time_07']/td[@class='time_day']\").text\n",
    "            ,'30K_Time' : driver.find_element_by_xpath(\"//tr[@class=' f-time_07']/td[@class='time']\").text\n",
    "            ,'30K_Diff' : driver.find_element_by_xpath(\"//tr[@class=' f-time_07']/td[@class='diff right']\").text\n",
    "            ,'30K_min_km' : driver.find_element_by_xpath(\"//tr[@class=' f-time_07']/td[@class='min_km right opt']\").text\n",
    "            ,'30K_kmh' : driver.find_element_by_xpath(\"//tr[@class=' f-time_07']/td[@class='kmh right opt']\").text\n",
    "            ,'35K_Time_of_day' : driver.find_element_by_xpath(\"//tr[@class='list-highlight f-time_08']/td[@class='time_day']\").text\n",
    "            ,'35K_Time' : driver.find_element_by_xpath(\"//tr[@class='list-highlight f-time_08']/td[@class='time']\").text\n",
    "            ,'35K_Diff' : driver.find_element_by_xpath(\"//tr[@class='list-highlight f-time_08']/td[@class='diff right']\").text\n",
    "            ,'35K_min_km' : driver.find_element_by_xpath(\"//tr[@class='list-highlight f-time_08']/td[@class='min_km right opt']\").text\n",
    "            ,'35K_kmh' : driver.find_element_by_xpath(\"//tr[@class='list-highlight f-time_08']/td[@class='kmh right opt']\").text\n",
    "            ,'40K_Time_of_day' : driver.find_element_by_xpath(\"//tr[@class=' f-time_09']/td[@class='time_day']\").text\n",
    "            ,'40K_Time' : driver.find_element_by_xpath(\"//tr[@class=' f-time_09']/td[@class='time']\").text\n",
    "            ,'40K_Diff' : driver.find_element_by_xpath(\"//tr[@class=' f-time_09']/td[@class='diff right']\").text\n",
    "            ,'40K_min_km' : driver.find_element_by_xpath(\"//tr[@class=' f-time_09']/td[@class='min_km right opt']\").text\n",
    "            ,'40K_kmh' : driver.find_element_by_xpath(\"//tr[@class=' f-time_09']/td[@class='kmh right opt']\").text\n",
    "            ,'FK_Time_of_day' : driver.find_element_by_xpath(\"//tr[@class='list-highlight f-time_finish_netto highlight split']/td[@class='time_day']\").text\n",
    "            ,'FK_Time' : driver.find_element_by_xpath(\"//tr[@class='list-highlight f-time_finish_netto highlight split']/td[@class='time']\").text\n",
    "            ,'FK_Diff' : driver.find_element_by_xpath(\"//tr[@class='list-highlight f-time_finish_netto highlight split']/td[@class='diff right']\").text\n",
    "            ,'FK_min_km' : driver.find_element_by_xpath(\"//tr[@class='list-highlight f-time_finish_netto highlight split']/td[@class='min_km right opt']\").text\n",
    "            ,'FK_kmh' : driver.find_element_by_xpath(\"//tr[@class='list-highlight f-time_finish_netto highlight split']/td[@class='kmh right opt']\").text\n",
    "        }\n",
    "        df_results = df_results.append(result_temp, ignore_index=True)\n",
    "        # Zurueck zu der Athletenliste\n",
    "        driver.find_element_by_xpath(\"//div[@class='row']/div[@class='col-xs-6']/div[1]/a[1]\").click()\n",
    "        time.sleep(3)\n",
    "    # Neue Suche\n",
    "    driver.find_element_by_xpath(\"//div[@class='cbox-content']/div[@class='list']/div[@class='back']/a[1]\").click()\n",
    "    time.sleep(3)\n"
   ]
  },
  {
   "cell_type": "code",
   "execution_count": null,
   "metadata": {},
   "outputs": [],
   "source": [
    "# Ergebnisse anzeigen\n",
    "# print(df_results.head())"
   ]
  },
  {
   "cell_type": "code",
   "execution_count": null,
   "metadata": {},
   "outputs": [],
   "source": [
    "# Treiber schliessen\n",
    "driver.close()"
   ]
  },
  {
   "cell_type": "code",
   "execution_count": null,
   "metadata": {},
   "outputs": [],
   "source": [
    "# Daten in die CSV Exportieren\n",
    "file_path = '/home/paul/python_projects/masterthesis/data/London/'\n",
    "file_name = 'daten_wmm_london_' + str(year) + '.csv'\n",
    "df_results.to_csv(file_path+file_name, sep=';', index=False)"
   ]
  }
 ],
 "metadata": {
  "interpreter": {
   "hash": "2f2ef7edd20578ec9754dace98dfc677349137fe4e064a9a45fddd79cef6b16b"
  },
  "kernelspec": {
   "display_name": "Python 3.8.8 64-bit ('base': conda)",
   "name": "python3"
  },
  "language_info": {
   "name": "python",
   "version": ""
  },
  "orig_nbformat": 4
 },
 "nbformat": 4,
 "nbformat_minor": 2
}
